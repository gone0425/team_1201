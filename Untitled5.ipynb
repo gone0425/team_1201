{
 "cells": [
  {
   "cell_type": "code",
   "execution_count": 33,
   "id": "0aa921e9-3826-4349-a01b-ea37cfb35213",
   "metadata": {},
   "outputs": [
    {
     "name": "stdout",
     "output_type": "stream",
     "text": [
      "0         9\n",
      "1         9\n",
      "2        10\n",
      "3         4\n",
      "4        10\n",
      "         ..\n",
      "32556    10\n",
      "32557    12\n",
      "32558     9\n",
      "32559     9\n",
      "32560     9\n",
      "Name: education.num, Length: 32561, dtype: int64 0        40\n",
      "1        18\n",
      "2        40\n",
      "3        40\n",
      "4        40\n",
      "         ..\n",
      "32556    40\n",
      "32557    38\n",
      "32558    40\n",
      "32559    40\n",
      "32560    20\n",
      "Name: hours.per.week, Length: 32561, dtype: int64\n"
     ]
    }
   ],
   "source": [
    "import pandas as pd\n",
    "import seaborn as sns\n",
    "import numpy as np\n",
    "from matplotlib import pyplot\n",
    "\n",
    "\n",
    "data= pd.read_csv(\"adult.csv\")\n",
    "\n",
    "\n",
    "print(data['education.num'], data['hours.per.week'])\n"
   ]
  },
  {
   "cell_type": "code",
   "execution_count": 6,
   "id": "4b88084a-cbb8-414a-8551-d5497e3bf346",
   "metadata": {},
   "outputs": [
    {
     "name": "stdout",
     "output_type": "stream",
     "text": [
      "성별에 따른 주당 근로시간 평균 차이\n"
     ]
    },
    {
     "data": {
      "text/plain": [
       "(42.88195043740648,\n",
       " 0.0,\n",
       " 1517.813409134445,\n",
       " 0.0,\n",
       " 85.10906767646381,\n",
       " 8.672505894017077e-258)"
      ]
     },
     "execution_count": 6,
     "metadata": {},
     "output_type": "execute_result"
    }
   ],
   "source": [
    "from scipy.stats import ttest_ind, chi2_contingency, f_oneway\n",
    "\n",
    "# Drop rows with missing values for relevant columns\n",
    "data_cleaned = data.dropna(subset=['sex', 'hours.per.week', 'income', 'education.num'])\n",
    "\n",
    "# 1. t-test: 성별에 따른 주당 근로시간 평균 차이\n",
    "male_hours = data_cleaned[data_cleaned['sex'] == 'Male']['hours.per.week']\n",
    "female_hours = data_cleaned[data_cleaned['sex'] == 'Female']['hours.per.week']\n",
    "t_stat, t_pval = ttest_ind(male_hours, female_hours, equal_var=False)\n",
    "\n",
    "# 2. 카이제곱 검정: 성별과 수입 수준 간의 관계\n",
    "contingency_table = pd.crosstab(data_cleaned['sex'], data_cleaned['income'])\n",
    "chi2_stat, chi2_pval, _, _ = chi2_contingency(contingency_table)\n",
    "\n"
   ]
  },
  {
   "cell_type": "code",
   "execution_count": 7,
   "id": "3d74429b-e6ed-49c9-9289-e31f1090379a",
   "metadata": {},
   "outputs": [
    {
     "name": "stdout",
     "output_type": "stream",
     "text": [
      "z-test결과 z_stat은 38.972899, p값은 0.000000로 유의미한 차이가 있다고 볼수있다\n"
     ]
    }
   ],
   "source": [
    "#수익수준이 50 up or under로 나와서 50이상인 비율로 검정을 진행, 비율검정을 활용했음\n",
    "from statsmodels.stats.proportion import proportions_ztest\n",
    "\n",
    "# Calculate counts of >50K income for males and females\n",
    "male_income_counts = data_cleaned[data_cleaned['sex'] == 'Male']['income'].value_counts()\n",
    "female_income_counts = data_cleaned[data_cleaned['sex'] == 'Female']['income'].value_counts()\n",
    "\n",
    "# Extract counts for >50K\n",
    "male_high_income = male_income_counts.get('>50K', 0)\n",
    "female_high_income = female_income_counts.get('>50K', 0)\n",
    "\n",
    "# Extract total counts for males and females\n",
    "male_total = male_income_counts.sum()\n",
    "female_total = female_income_counts.sum()\n",
    "\n",
    "# Perform z-test for proportions\n",
    "count = [male_high_income, female_high_income]\n",
    "nobs = [male_total, female_total]\n",
    "z_stat, p_val = proportions_ztest(count, nobs)\n",
    "\n",
    "print(\"z-test결과 z_stat은 %f, p값은 %f로 유의미한 차이가 있다고 볼 수 있다\"%(z_stat, p_val))\n"
   ]
  },
  {
   "cell_type": "code",
   "execution_count": 14,
   "id": "aac40e69-c219-437a-aa8c-7e36c1c4777e",
   "metadata": {},
   "outputs": [
    {
     "data": {
      "image/png": "[encoded data removed]",
      "text/plain": [
       "<Figure size 800x500 with 1 Axes>"
      ]
     },
     "metadata": {},
     "output_type": "display_data"
    }
   ],
   "source": [
    "#p값이 0이어서 그래프를 그려보니 한눈에 봐도 차이가 났었다는걸 알수있음\n",
    "import matplotlib.pyplot as plt\n",
    "male_high_income_ratio = male_high_income / male_total\n",
    "female_high_income_ratio = female_high_income / female_total\n",
    "\n",
    "\n",
    "categories = ['Male', 'Female']\n",
    "proportions = [male_high_income_ratio, female_high_income_ratio]\n",
    "\n",
    "plt.figure(figsize=(8, 5))\n",
    "plt.bar(categories, proportions, color=['blue', 'orange'], alpha=0.7)\n",
    "plt.ylabel('Proportion of >50K Income')\n",
    "plt.title('Proportion of High Income by Gender')\n",
    "plt.ylim(0, 1)\n",
    "plt.xticks(categories)\n",
    "plt.grid(axis='y', linestyle='--', alpha=0.7)\n",
    "plt.show()\n"
   ]
  },
  {
   "cell_type": "code",
   "execution_count": 11,
   "id": "9816fca1-1b7a-4718-b29d-6433460356e5",
   "metadata": {},
   "outputs": [
    {
     "name": "stdout",
     "output_type": "stream",
     "text": [
      "F-test (Levene's Test) 결과:\n",
      "F-통계량: 14.281662588404918\n",
      "p-값: 0.0001576711297164059\n",
      "Welch's t-test 결과:\n",
      "t-통계량: 42.88195043740648\n",
      "p-값: 0.0\n"
     ]
    }
   ],
   "source": [
    "from scipy.stats import levene\n",
    "\n",
    "\n",
    "# 1. t-test: 성별에 따른 주당 근로시간 평균 차이\n",
    "male_hours = data_cleaned[data_cleaned['sex'] == 'Male']['hours.per.week']\n",
    "female_hours = data_cleaned[data_cleaned['sex'] == 'Female']['hours.per.week']\n",
    "\n",
    "#분산이 같은지 테스트\n",
    "levene_stat, levene_pval = levene(male_hours, female_hours, center='mean')\n",
    "\n",
    "# 결과 출력\n",
    "print(\"F-test (Levene's Test) 결과:\")\n",
    "print(\"F-통계량:\", levene_stat)\n",
    "print(\"p-값:\", levene_pval)\n",
    "\n",
    "#분산이 다르니 Welch's t-test 사용 => equal_var=False\n",
    "\n",
    "t_stat, t_pval = ttest_ind(male_hours, female_hours, equal_var=False)\n",
    "\n",
    "print(\"Welch's t-test 결과:\")\n",
    "print(\"t-통계량:\", t_stat)\n",
    "print(\"p-값:\", t_pval)"
   ]
  },
  {
   "cell_type": "code",
   "execution_count": 36,
   "id": "5167417d-d281-4205-9980-8fec282d13bc",
   "metadata": {},
   "outputs": [
    {
     "name": "stdout",
     "output_type": "stream",
     "text": [
      "F-test (Levene's Test) 결과:\n",
      "F-통계량: 1.7779023072732485\n",
      "p-값: 0.18241645059095554\n",
      "t-검정 결과: t-statistic=-45.123, p-value=0.000\n"
     ]
    }
   ],
   "source": [
    "from scipy.stats import ttest_ind\n",
    "\n",
    "#소득수준과 근로시간 평균\n",
    "group1 = data_cleaned[data_cleaned['income'] == '<=50K']['hours.per.week']\n",
    "group2 = data_cleaned[data_cleaned['income'] == '>50K']['hours.per.week']\n",
    "\n",
    "levene_stat, levene_pval = levene(group1, group2, center='mean')\n",
    "\n",
    "# 결과 출력\n",
    "print(\"F-test (Levene's Test) 결과:\")\n",
    "print(\"F-통계량:\", levene_stat)\n",
    "print(\"p-값:\", levene_pval)\n",
    "# 독립 표본 t-검정\n",
    "t_stat, p_val = ttest_ind(group1, group2, equal_var=True)\n",
    "\n",
    "print(f\"t-검정 결과: t-statistic={t_stat:.3f}, p-value={p_val:.3f}\")\n"
   ]
  }
 ],
 "metadata": {
  "kernelspec": {
   "display_name": "stat",
   "language": "python",
   "name": "statenv"
  },
  "language_info": {
   "codemirror_mode": {
    "name": "ipython",
    "version": 3
   },
   "file_extension": ".py",
   "mimetype": "text/x-python",
   "name": "python",
   "nbconvert_exporter": "python",
   "pygments_lexer": "ipython3",
   "version": "3.11.7"
  }
 },
 "nbformat": 4,
 "nbformat_minor": 5
}
